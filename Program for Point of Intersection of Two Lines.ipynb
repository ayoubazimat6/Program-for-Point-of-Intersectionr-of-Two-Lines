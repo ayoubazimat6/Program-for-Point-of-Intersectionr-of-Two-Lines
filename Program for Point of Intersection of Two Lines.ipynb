{
 "cells": [
  {
   "cell_type": "code",
   "execution_count": 2,
   "metadata": {},
   "outputs": [
    {
     "name": "stdout",
     "output_type": "stream",
     "text": [
      "{x: 2/3, y: 8/3}\n"
     ]
    }
   ],
   "source": [
    "from sympy import Symbol, solve\n",
    "\n",
    "x= Symbol('x')\n",
    "y= Symbol('y')\n",
    "\n",
    "exp1 = -1*x + y -2\n",
    "exp2 =  2*x + y -4\n",
    "\n",
    "solution = solve ((exp1,exp2))\n",
    "\n",
    "print(solution)\n",
    "\n"
   ]
  }
 ],
 "metadata": {
  "kernelspec": {
   "display_name": "Python 3.9.12 ('base')",
   "language": "python",
   "name": "python3"
  },
  "language_info": {
   "codemirror_mode": {
    "name": "ipython",
    "version": 3
   },
   "file_extension": ".py",
   "mimetype": "text/x-python",
   "name": "python",
   "nbconvert_exporter": "python",
   "pygments_lexer": "ipython3",
   "version": "3.9.12"
  },
  "orig_nbformat": 4,
  "vscode": {
   "interpreter": {
    "hash": "ad2bdc8ecc057115af97d19610ffacc2b4e99fae6737bb82f5d7fb13d2f2c186"
   }
  }
 },
 "nbformat": 4,
 "nbformat_minor": 2
}
